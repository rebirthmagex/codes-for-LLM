{
  "nbformat": 4,
  "nbformat_minor": 0,
  "metadata": {
    "colab": {
      "provenance": []
    },
    "kernelspec": {
      "name": "python3",
      "display_name": "Python 3"
    },
    "language_info": {
      "name": "python"
    }
  },
  "cells": [
    {
      "cell_type": "code",
      "source": [
        "%pip install --upgrade --quiet rich"
      ],
      "metadata": {
        "id": "Rrxa97_dEfT1"
      },
      "execution_count": 25,
      "outputs": []
    },
    {
      "cell_type": "code",
      "source": [
        "from rich.console import Console\n",
        "from rich.theme import Theme\n",
        "from rich.traceback import install\n",
        "\n",
        "install()\n",
        "\n",
        "custom_theme = Theme({'error': 'bold red', 'warning': 'bold yellow'})\n",
        "\n",
        "console = Console(theme=custom_theme)"
      ],
      "metadata": {
        "id": "Zn6n-yVSHZYh"
      },
      "execution_count": 24,
      "outputs": []
    },
    {
      "cell_type": "code",
      "source": [
        "def compare_numbers(a, b):\n",
        "    # console.log(log_locals=False)\n",
        "    if a > b:\n",
        "        console.print(f\"{a} is greater than {b}\", style=\"bold green\")\n",
        "    elif a < b:\n",
        "        console.print(f\"{a} is less than {b}\", style=\"warning\")\n",
        "    else:\n",
        "        console.print(f\"{a} is equal to {b}\")\n",
        "\n",
        "\n",
        "compare_numbers(5, 10)\n",
        "compare_numbers(10, 5)\n",
        "compare_numbers(5, 5)"
      ],
      "metadata": {
        "colab": {
          "base_uri": "https://localhost:8080/",
          "height": 68
        },
        "id": "BC4ByPC6HaBp",
        "outputId": "a62c5994-14b6-418f-ba42-6f3cf2cdfc1e"
      },
      "execution_count": 20,
      "outputs": [
        {
          "output_type": "display_data",
          "data": {
            "text/plain": [
              "\u001b[1;36m5\u001b[0m\u001b[1;33m is less than \u001b[0m\u001b[1;36m10\u001b[0m\n"
            ],
            "text/html": [
              "<pre style=\"white-space:pre;overflow-x:auto;line-height:normal;font-family:Menlo,'DejaVu Sans Mono',consolas,'Courier New',monospace\"><span style=\"color: #008080; text-decoration-color: #008080; font-weight: bold\">5</span><span style=\"color: #808000; text-decoration-color: #808000; font-weight: bold\"> is less than </span><span style=\"color: #008080; text-decoration-color: #008080; font-weight: bold\">10</span>\n",
              "</pre>\n"
            ]
          },
          "metadata": {}
        },
        {
          "output_type": "display_data",
          "data": {
            "text/plain": [
              "\u001b[1;36m10\u001b[0m\u001b[1;32m is greater than \u001b[0m\u001b[1;36m5\u001b[0m\n"
            ],
            "text/html": [
              "<pre style=\"white-space:pre;overflow-x:auto;line-height:normal;font-family:Menlo,'DejaVu Sans Mono',consolas,'Courier New',monospace\"><span style=\"color: #008080; text-decoration-color: #008080; font-weight: bold\">10</span><span style=\"color: #008000; text-decoration-color: #008000; font-weight: bold\"> is greater than </span><span style=\"color: #008080; text-decoration-color: #008080; font-weight: bold\">5</span>\n",
              "</pre>\n"
            ]
          },
          "metadata": {}
        },
        {
          "output_type": "display_data",
          "data": {
            "text/plain": [
              "\u001b[1;36m5\u001b[0m is equal to \u001b[1;36m5\u001b[0m\n"
            ],
            "text/html": [
              "<pre style=\"white-space:pre;overflow-x:auto;line-height:normal;font-family:Menlo,'DejaVu Sans Mono',consolas,'Courier New',monospace\"><span style=\"color: #008080; text-decoration-color: #008080; font-weight: bold\">5</span> is equal to <span style=\"color: #008080; text-decoration-color: #008080; font-weight: bold\">5</span>\n",
              "</pre>\n"
            ]
          },
          "metadata": {}
        }
      ]
    },
    {
      "cell_type": "code",
      "source": [
        "def compare_numbers(a, b):\n",
        "    console.log(log_locals=False)\n",
        "    if a > b:\n",
        "        console.print(f\"{a} is greater than {b}\", style=\"bold green\")\n",
        "    elif a < b:\n",
        "        console.print(f\"{a} is less than {b}\", style=\"warning\")\n",
        "    else:\n",
        "        console.print(f\"{a} is equal to {b}\")\n",
        "\n",
        "\n",
        "compare_numbers(5, 10)\n",
        "compare_numbers(10, 5)\n",
        "compare_numbers(5, 5)"
      ],
      "metadata": {
        "colab": {
          "base_uri": "https://localhost:8080/",
          "height": 119
        },
        "id": "nNIDhxp4Hpdl",
        "outputId": "57d5288f-aa61-4044-d592-231131eea1a6"
      },
      "execution_count": 21,
      "outputs": [
        {
          "output_type": "display_data",
          "data": {
            "text/plain": [
              "\u001b[2;36m[12:39:34]\u001b[0m\u001b[2;36m \u001b[0m                                                                       \u001b[2m<ipython-input-21-d7ef0d43ba79>:2\u001b[0m\n"
            ],
            "text/html": [
              "<pre style=\"white-space:pre;overflow-x:auto;line-height:normal;font-family:Menlo,'DejaVu Sans Mono',consolas,'Courier New',monospace\"><span style=\"color: #7fbfbf; text-decoration-color: #7fbfbf\">[12:39:34] </span>                                                                       <span style=\"color: #7f7f7f; text-decoration-color: #7f7f7f\">&lt;ipython-input-21-d7ef0d43ba79&gt;:2</span>\n",
              "</pre>\n"
            ]
          },
          "metadata": {}
        },
        {
          "output_type": "display_data",
          "data": {
            "text/plain": [
              "\u001b[1;36m5\u001b[0m\u001b[1;33m is less than \u001b[0m\u001b[1;36m10\u001b[0m\n"
            ],
            "text/html": [
              "<pre style=\"white-space:pre;overflow-x:auto;line-height:normal;font-family:Menlo,'DejaVu Sans Mono',consolas,'Courier New',monospace\"><span style=\"color: #008080; text-decoration-color: #008080; font-weight: bold\">5</span><span style=\"color: #808000; text-decoration-color: #808000; font-weight: bold\"> is less than </span><span style=\"color: #008080; text-decoration-color: #008080; font-weight: bold\">10</span>\n",
              "</pre>\n"
            ]
          },
          "metadata": {}
        },
        {
          "output_type": "display_data",
          "data": {
            "text/plain": [
              "\u001b[2;36m          \u001b[0m\u001b[2;36m \u001b[0m                                                                       \u001b[2m<ipython-input-21-d7ef0d43ba79>:2\u001b[0m\n"
            ],
            "text/html": [
              "<pre style=\"white-space:pre;overflow-x:auto;line-height:normal;font-family:Menlo,'DejaVu Sans Mono',consolas,'Courier New',monospace\"><span style=\"color: #7fbfbf; text-decoration-color: #7fbfbf\">           </span>                                                                       <span style=\"color: #7f7f7f; text-decoration-color: #7f7f7f\">&lt;ipython-input-21-d7ef0d43ba79&gt;:2</span>\n",
              "</pre>\n"
            ]
          },
          "metadata": {}
        },
        {
          "output_type": "display_data",
          "data": {
            "text/plain": [
              "\u001b[1;36m10\u001b[0m\u001b[1;32m is greater than \u001b[0m\u001b[1;36m5\u001b[0m\n"
            ],
            "text/html": [
              "<pre style=\"white-space:pre;overflow-x:auto;line-height:normal;font-family:Menlo,'DejaVu Sans Mono',consolas,'Courier New',monospace\"><span style=\"color: #008080; text-decoration-color: #008080; font-weight: bold\">10</span><span style=\"color: #008000; text-decoration-color: #008000; font-weight: bold\"> is greater than </span><span style=\"color: #008080; text-decoration-color: #008080; font-weight: bold\">5</span>\n",
              "</pre>\n"
            ]
          },
          "metadata": {}
        },
        {
          "output_type": "display_data",
          "data": {
            "text/plain": [
              "\u001b[2;36m          \u001b[0m\u001b[2;36m \u001b[0m                                                                       \u001b[2m<ipython-input-21-d7ef0d43ba79>:2\u001b[0m\n"
            ],
            "text/html": [
              "<pre style=\"white-space:pre;overflow-x:auto;line-height:normal;font-family:Menlo,'DejaVu Sans Mono',consolas,'Courier New',monospace\"><span style=\"color: #7fbfbf; text-decoration-color: #7fbfbf\">           </span>                                                                       <span style=\"color: #7f7f7f; text-decoration-color: #7f7f7f\">&lt;ipython-input-21-d7ef0d43ba79&gt;:2</span>\n",
              "</pre>\n"
            ]
          },
          "metadata": {}
        },
        {
          "output_type": "display_data",
          "data": {
            "text/plain": [
              "\u001b[1;36m5\u001b[0m is equal to \u001b[1;36m5\u001b[0m\n"
            ],
            "text/html": [
              "<pre style=\"white-space:pre;overflow-x:auto;line-height:normal;font-family:Menlo,'DejaVu Sans Mono',consolas,'Courier New',monospace\"><span style=\"color: #008080; text-decoration-color: #008080; font-weight: bold\">5</span> is equal to <span style=\"color: #008080; text-decoration-color: #008080; font-weight: bold\">5</span>\n",
              "</pre>\n"
            ]
          },
          "metadata": {}
        }
      ]
    },
    {
      "cell_type": "code",
      "source": [
        "def compare_numbers(a, b):\n",
        "    console.log(log_locals=True)\n",
        "    if a > b:\n",
        "        console.print(f\"{a} is greater than {b}\", style=\"bold green\")\n",
        "    elif a < b:\n",
        "        console.print(f\"{a} is less than {b}\", style=\"warning\")\n",
        "    else:\n",
        "        console.print(f\"{a} is equal to {b}\")\n",
        "\n",
        "\n",
        "compare_numbers(5, 10)\n",
        "compare_numbers(10, 5)\n",
        "compare_numbers(5, 5)"
      ],
      "metadata": {
        "colab": {
          "base_uri": "https://localhost:8080/",
          "height": 323
        },
        "id": "axPigawQHvPo",
        "outputId": "e738a600-1147-441a-dee2-bfb5e4858ca1"
      },
      "execution_count": 22,
      "outputs": [
        {
          "output_type": "display_data",
          "data": {
            "text/plain": [
              "\u001b[2;36m[12:40:00]\u001b[0m\u001b[2;36m \u001b[0m                                                                       \u001b[2m<ipython-input-22-c02bc37eef02>:2\u001b[0m\n",
              "\u001b[2;36m           \u001b[0m\u001b[34m╭─\u001b[0m\u001b[34m \u001b[0m\u001b[3;34mlocals\u001b[0m\u001b[34m \u001b[0m\u001b[34m─╮\u001b[0m                                                           \u001b[2m                                 \u001b[0m\n",
              "\u001b[2;36m           \u001b[0m\u001b[34m│\u001b[0m \u001b[3;33ma\u001b[0m\u001b[31m =\u001b[0m \u001b[1;36m5\u001b[0m    \u001b[34m│\u001b[0m                                                           \u001b[2m                                 \u001b[0m\n",
              "\u001b[2;36m           \u001b[0m\u001b[34m│\u001b[0m \u001b[3;33mb\u001b[0m\u001b[31m =\u001b[0m \u001b[1;36m10\u001b[0m   \u001b[34m│\u001b[0m                                                           \u001b[2m                                 \u001b[0m\n",
              "\u001b[2;36m           \u001b[0m\u001b[34m╰──────────╯\u001b[0m                                                           \u001b[2m                                 \u001b[0m\n"
            ],
            "text/html": [
              "<pre style=\"white-space:pre;overflow-x:auto;line-height:normal;font-family:Menlo,'DejaVu Sans Mono',consolas,'Courier New',monospace\"><span style=\"color: #7fbfbf; text-decoration-color: #7fbfbf\">[12:40:00] </span>                                                                       <span style=\"color: #7f7f7f; text-decoration-color: #7f7f7f\">&lt;ipython-input-22-c02bc37eef02&gt;:2</span>\n",
              "<span style=\"color: #7fbfbf; text-decoration-color: #7fbfbf\">           </span><span style=\"color: #000080; text-decoration-color: #000080\">╭─ </span><span style=\"color: #000080; text-decoration-color: #000080; font-style: italic\">locals</span><span style=\"color: #000080; text-decoration-color: #000080\"> ─╮</span>                                                           <span style=\"color: #7f7f7f; text-decoration-color: #7f7f7f\">                                 </span>\n",
              "<span style=\"color: #7fbfbf; text-decoration-color: #7fbfbf\">           </span><span style=\"color: #000080; text-decoration-color: #000080\">│</span> <span style=\"color: #808000; text-decoration-color: #808000; font-style: italic\">a</span><span style=\"color: #800000; text-decoration-color: #800000\"> =</span> <span style=\"color: #008080; text-decoration-color: #008080; font-weight: bold\">5</span>    <span style=\"color: #000080; text-decoration-color: #000080\">│</span>                                                           <span style=\"color: #7f7f7f; text-decoration-color: #7f7f7f\">                                 </span>\n",
              "<span style=\"color: #7fbfbf; text-decoration-color: #7fbfbf\">           </span><span style=\"color: #000080; text-decoration-color: #000080\">│</span> <span style=\"color: #808000; text-decoration-color: #808000; font-style: italic\">b</span><span style=\"color: #800000; text-decoration-color: #800000\"> =</span> <span style=\"color: #008080; text-decoration-color: #008080; font-weight: bold\">10</span>   <span style=\"color: #000080; text-decoration-color: #000080\">│</span>                                                           <span style=\"color: #7f7f7f; text-decoration-color: #7f7f7f\">                                 </span>\n",
              "<span style=\"color: #7fbfbf; text-decoration-color: #7fbfbf\">           </span><span style=\"color: #000080; text-decoration-color: #000080\">╰──────────╯</span>                                                           <span style=\"color: #7f7f7f; text-decoration-color: #7f7f7f\">                                 </span>\n",
              "</pre>\n"
            ]
          },
          "metadata": {}
        },
        {
          "output_type": "display_data",
          "data": {
            "text/plain": [
              "\u001b[1;36m5\u001b[0m\u001b[1;33m is less than \u001b[0m\u001b[1;36m10\u001b[0m\n"
            ],
            "text/html": [
              "<pre style=\"white-space:pre;overflow-x:auto;line-height:normal;font-family:Menlo,'DejaVu Sans Mono',consolas,'Courier New',monospace\"><span style=\"color: #008080; text-decoration-color: #008080; font-weight: bold\">5</span><span style=\"color: #808000; text-decoration-color: #808000; font-weight: bold\"> is less than </span><span style=\"color: #008080; text-decoration-color: #008080; font-weight: bold\">10</span>\n",
              "</pre>\n"
            ]
          },
          "metadata": {}
        },
        {
          "output_type": "display_data",
          "data": {
            "text/plain": [
              "\u001b[2;36m          \u001b[0m\u001b[2;36m \u001b[0m                                                                       \u001b[2m<ipython-input-22-c02bc37eef02>:2\u001b[0m\n",
              "\u001b[2;36m           \u001b[0m\u001b[34m╭─\u001b[0m\u001b[34m \u001b[0m\u001b[3;34mlocals\u001b[0m\u001b[34m \u001b[0m\u001b[34m─╮\u001b[0m                                                           \u001b[2m                                 \u001b[0m\n",
              "\u001b[2;36m           \u001b[0m\u001b[34m│\u001b[0m \u001b[3;33ma\u001b[0m\u001b[31m =\u001b[0m \u001b[1;36m10\u001b[0m   \u001b[34m│\u001b[0m                                                           \u001b[2m                                 \u001b[0m\n",
              "\u001b[2;36m           \u001b[0m\u001b[34m│\u001b[0m \u001b[3;33mb\u001b[0m\u001b[31m =\u001b[0m \u001b[1;36m5\u001b[0m    \u001b[34m│\u001b[0m                                                           \u001b[2m                                 \u001b[0m\n",
              "\u001b[2;36m           \u001b[0m\u001b[34m╰──────────╯\u001b[0m                                                           \u001b[2m                                 \u001b[0m\n"
            ],
            "text/html": [
              "<pre style=\"white-space:pre;overflow-x:auto;line-height:normal;font-family:Menlo,'DejaVu Sans Mono',consolas,'Courier New',monospace\"><span style=\"color: #7fbfbf; text-decoration-color: #7fbfbf\">           </span>                                                                       <span style=\"color: #7f7f7f; text-decoration-color: #7f7f7f\">&lt;ipython-input-22-c02bc37eef02&gt;:2</span>\n",
              "<span style=\"color: #7fbfbf; text-decoration-color: #7fbfbf\">           </span><span style=\"color: #000080; text-decoration-color: #000080\">╭─ </span><span style=\"color: #000080; text-decoration-color: #000080; font-style: italic\">locals</span><span style=\"color: #000080; text-decoration-color: #000080\"> ─╮</span>                                                           <span style=\"color: #7f7f7f; text-decoration-color: #7f7f7f\">                                 </span>\n",
              "<span style=\"color: #7fbfbf; text-decoration-color: #7fbfbf\">           </span><span style=\"color: #000080; text-decoration-color: #000080\">│</span> <span style=\"color: #808000; text-decoration-color: #808000; font-style: italic\">a</span><span style=\"color: #800000; text-decoration-color: #800000\"> =</span> <span style=\"color: #008080; text-decoration-color: #008080; font-weight: bold\">10</span>   <span style=\"color: #000080; text-decoration-color: #000080\">│</span>                                                           <span style=\"color: #7f7f7f; text-decoration-color: #7f7f7f\">                                 </span>\n",
              "<span style=\"color: #7fbfbf; text-decoration-color: #7fbfbf\">           </span><span style=\"color: #000080; text-decoration-color: #000080\">│</span> <span style=\"color: #808000; text-decoration-color: #808000; font-style: italic\">b</span><span style=\"color: #800000; text-decoration-color: #800000\"> =</span> <span style=\"color: #008080; text-decoration-color: #008080; font-weight: bold\">5</span>    <span style=\"color: #000080; text-decoration-color: #000080\">│</span>                                                           <span style=\"color: #7f7f7f; text-decoration-color: #7f7f7f\">                                 </span>\n",
              "<span style=\"color: #7fbfbf; text-decoration-color: #7fbfbf\">           </span><span style=\"color: #000080; text-decoration-color: #000080\">╰──────────╯</span>                                                           <span style=\"color: #7f7f7f; text-decoration-color: #7f7f7f\">                                 </span>\n",
              "</pre>\n"
            ]
          },
          "metadata": {}
        },
        {
          "output_type": "display_data",
          "data": {
            "text/plain": [
              "\u001b[1;36m10\u001b[0m\u001b[1;32m is greater than \u001b[0m\u001b[1;36m5\u001b[0m\n"
            ],
            "text/html": [
              "<pre style=\"white-space:pre;overflow-x:auto;line-height:normal;font-family:Menlo,'DejaVu Sans Mono',consolas,'Courier New',monospace\"><span style=\"color: #008080; text-decoration-color: #008080; font-weight: bold\">10</span><span style=\"color: #008000; text-decoration-color: #008000; font-weight: bold\"> is greater than </span><span style=\"color: #008080; text-decoration-color: #008080; font-weight: bold\">5</span>\n",
              "</pre>\n"
            ]
          },
          "metadata": {}
        },
        {
          "output_type": "display_data",
          "data": {
            "text/plain": [
              "\u001b[2;36m          \u001b[0m\u001b[2;36m \u001b[0m                                                                       \u001b[2m<ipython-input-22-c02bc37eef02>:2\u001b[0m\n",
              "\u001b[2;36m           \u001b[0m\u001b[34m╭─\u001b[0m\u001b[34m \u001b[0m\u001b[3;34mlocals\u001b[0m\u001b[34m \u001b[0m\u001b[34m─╮\u001b[0m                                                           \u001b[2m                                 \u001b[0m\n",
              "\u001b[2;36m           \u001b[0m\u001b[34m│\u001b[0m \u001b[3;33ma\u001b[0m\u001b[31m =\u001b[0m \u001b[1;36m5\u001b[0m    \u001b[34m│\u001b[0m                                                           \u001b[2m                                 \u001b[0m\n",
              "\u001b[2;36m           \u001b[0m\u001b[34m│\u001b[0m \u001b[3;33mb\u001b[0m\u001b[31m =\u001b[0m \u001b[1;36m5\u001b[0m    \u001b[34m│\u001b[0m                                                           \u001b[2m                                 \u001b[0m\n",
              "\u001b[2;36m           \u001b[0m\u001b[34m╰──────────╯\u001b[0m                                                           \u001b[2m                                 \u001b[0m\n"
            ],
            "text/html": [
              "<pre style=\"white-space:pre;overflow-x:auto;line-height:normal;font-family:Menlo,'DejaVu Sans Mono',consolas,'Courier New',monospace\"><span style=\"color: #7fbfbf; text-decoration-color: #7fbfbf\">           </span>                                                                       <span style=\"color: #7f7f7f; text-decoration-color: #7f7f7f\">&lt;ipython-input-22-c02bc37eef02&gt;:2</span>\n",
              "<span style=\"color: #7fbfbf; text-decoration-color: #7fbfbf\">           </span><span style=\"color: #000080; text-decoration-color: #000080\">╭─ </span><span style=\"color: #000080; text-decoration-color: #000080; font-style: italic\">locals</span><span style=\"color: #000080; text-decoration-color: #000080\"> ─╮</span>                                                           <span style=\"color: #7f7f7f; text-decoration-color: #7f7f7f\">                                 </span>\n",
              "<span style=\"color: #7fbfbf; text-decoration-color: #7fbfbf\">           </span><span style=\"color: #000080; text-decoration-color: #000080\">│</span> <span style=\"color: #808000; text-decoration-color: #808000; font-style: italic\">a</span><span style=\"color: #800000; text-decoration-color: #800000\"> =</span> <span style=\"color: #008080; text-decoration-color: #008080; font-weight: bold\">5</span>    <span style=\"color: #000080; text-decoration-color: #000080\">│</span>                                                           <span style=\"color: #7f7f7f; text-decoration-color: #7f7f7f\">                                 </span>\n",
              "<span style=\"color: #7fbfbf; text-decoration-color: #7fbfbf\">           </span><span style=\"color: #000080; text-decoration-color: #000080\">│</span> <span style=\"color: #808000; text-decoration-color: #808000; font-style: italic\">b</span><span style=\"color: #800000; text-decoration-color: #800000\"> =</span> <span style=\"color: #008080; text-decoration-color: #008080; font-weight: bold\">5</span>    <span style=\"color: #000080; text-decoration-color: #000080\">│</span>                                                           <span style=\"color: #7f7f7f; text-decoration-color: #7f7f7f\">                                 </span>\n",
              "<span style=\"color: #7fbfbf; text-decoration-color: #7fbfbf\">           </span><span style=\"color: #000080; text-decoration-color: #000080\">╰──────────╯</span>                                                           <span style=\"color: #7f7f7f; text-decoration-color: #7f7f7f\">                                 </span>\n",
              "</pre>\n"
            ]
          },
          "metadata": {}
        },
        {
          "output_type": "display_data",
          "data": {
            "text/plain": [
              "\u001b[1;36m5\u001b[0m is equal to \u001b[1;36m5\u001b[0m\n"
            ],
            "text/html": [
              "<pre style=\"white-space:pre;overflow-x:auto;line-height:normal;font-family:Menlo,'DejaVu Sans Mono',consolas,'Courier New',monospace\"><span style=\"color: #008080; text-decoration-color: #008080; font-weight: bold\">5</span> is equal to <span style=\"color: #008080; text-decoration-color: #008080; font-weight: bold\">5</span>\n",
              "</pre>\n"
            ]
          },
          "metadata": {}
        }
      ]
    },
    {
      "cell_type": "code",
      "source": [
        "compare_numbers(5, 10)\n",
        "compare_numbers(10, 5)\n",
        "compare_numbers(5, 5)\n",
        "\n",
        "compare_numbers(5, \"Keith\")"
      ],
      "metadata": {
        "colab": {
          "base_uri": "https://localhost:8080/",
          "height": 493
        },
        "outputId": "c1f29645-d22f-40a8-c532-794dc5204852",
        "id": "BzR6CXcbHaBt"
      },
      "execution_count": 23,
      "outputs": [
        {
          "output_type": "display_data",
          "data": {
            "text/plain": [
              "\u001b[2;36m[12:40:58]\u001b[0m\u001b[2;36m \u001b[0m                                                                       \u001b[2m<ipython-input-22-c02bc37eef02>:2\u001b[0m\n",
              "\u001b[2;36m           \u001b[0m\u001b[34m╭─\u001b[0m\u001b[34m \u001b[0m\u001b[3;34mlocals\u001b[0m\u001b[34m \u001b[0m\u001b[34m─╮\u001b[0m                                                           \u001b[2m                                 \u001b[0m\n",
              "\u001b[2;36m           \u001b[0m\u001b[34m│\u001b[0m \u001b[3;33ma\u001b[0m\u001b[31m =\u001b[0m \u001b[1;36m5\u001b[0m    \u001b[34m│\u001b[0m                                                           \u001b[2m                                 \u001b[0m\n",
              "\u001b[2;36m           \u001b[0m\u001b[34m│\u001b[0m \u001b[3;33mb\u001b[0m\u001b[31m =\u001b[0m \u001b[1;36m10\u001b[0m   \u001b[34m│\u001b[0m                                                           \u001b[2m                                 \u001b[0m\n",
              "\u001b[2;36m           \u001b[0m\u001b[34m╰──────────╯\u001b[0m                                                           \u001b[2m                                 \u001b[0m\n"
            ],
            "text/html": [
              "<pre style=\"white-space:pre;overflow-x:auto;line-height:normal;font-family:Menlo,'DejaVu Sans Mono',consolas,'Courier New',monospace\"><span style=\"color: #7fbfbf; text-decoration-color: #7fbfbf\">[12:40:58] </span>                                                                       <span style=\"color: #7f7f7f; text-decoration-color: #7f7f7f\">&lt;ipython-input-22-c02bc37eef02&gt;:2</span>\n",
              "<span style=\"color: #7fbfbf; text-decoration-color: #7fbfbf\">           </span><span style=\"color: #000080; text-decoration-color: #000080\">╭─ </span><span style=\"color: #000080; text-decoration-color: #000080; font-style: italic\">locals</span><span style=\"color: #000080; text-decoration-color: #000080\"> ─╮</span>                                                           <span style=\"color: #7f7f7f; text-decoration-color: #7f7f7f\">                                 </span>\n",
              "<span style=\"color: #7fbfbf; text-decoration-color: #7fbfbf\">           </span><span style=\"color: #000080; text-decoration-color: #000080\">│</span> <span style=\"color: #808000; text-decoration-color: #808000; font-style: italic\">a</span><span style=\"color: #800000; text-decoration-color: #800000\"> =</span> <span style=\"color: #008080; text-decoration-color: #008080; font-weight: bold\">5</span>    <span style=\"color: #000080; text-decoration-color: #000080\">│</span>                                                           <span style=\"color: #7f7f7f; text-decoration-color: #7f7f7f\">                                 </span>\n",
              "<span style=\"color: #7fbfbf; text-decoration-color: #7fbfbf\">           </span><span style=\"color: #000080; text-decoration-color: #000080\">│</span> <span style=\"color: #808000; text-decoration-color: #808000; font-style: italic\">b</span><span style=\"color: #800000; text-decoration-color: #800000\"> =</span> <span style=\"color: #008080; text-decoration-color: #008080; font-weight: bold\">10</span>   <span style=\"color: #000080; text-decoration-color: #000080\">│</span>                                                           <span style=\"color: #7f7f7f; text-decoration-color: #7f7f7f\">                                 </span>\n",
              "<span style=\"color: #7fbfbf; text-decoration-color: #7fbfbf\">           </span><span style=\"color: #000080; text-decoration-color: #000080\">╰──────────╯</span>                                                           <span style=\"color: #7f7f7f; text-decoration-color: #7f7f7f\">                                 </span>\n",
              "</pre>\n"
            ]
          },
          "metadata": {}
        },
        {
          "output_type": "display_data",
          "data": {
            "text/plain": [
              "\u001b[1;36m5\u001b[0m\u001b[1;33m is less than \u001b[0m\u001b[1;36m10\u001b[0m\n"
            ],
            "text/html": [
              "<pre style=\"white-space:pre;overflow-x:auto;line-height:normal;font-family:Menlo,'DejaVu Sans Mono',consolas,'Courier New',monospace\"><span style=\"color: #008080; text-decoration-color: #008080; font-weight: bold\">5</span><span style=\"color: #808000; text-decoration-color: #808000; font-weight: bold\"> is less than </span><span style=\"color: #008080; text-decoration-color: #008080; font-weight: bold\">10</span>\n",
              "</pre>\n"
            ]
          },
          "metadata": {}
        },
        {
          "output_type": "display_data",
          "data": {
            "text/plain": [
              "\u001b[2;36m          \u001b[0m\u001b[2;36m \u001b[0m                                                                       \u001b[2m<ipython-input-22-c02bc37eef02>:2\u001b[0m\n",
              "\u001b[2;36m           \u001b[0m\u001b[34m╭─\u001b[0m\u001b[34m \u001b[0m\u001b[3;34mlocals\u001b[0m\u001b[34m \u001b[0m\u001b[34m─╮\u001b[0m                                                           \u001b[2m                                 \u001b[0m\n",
              "\u001b[2;36m           \u001b[0m\u001b[34m│\u001b[0m \u001b[3;33ma\u001b[0m\u001b[31m =\u001b[0m \u001b[1;36m10\u001b[0m   \u001b[34m│\u001b[0m                                                           \u001b[2m                                 \u001b[0m\n",
              "\u001b[2;36m           \u001b[0m\u001b[34m│\u001b[0m \u001b[3;33mb\u001b[0m\u001b[31m =\u001b[0m \u001b[1;36m5\u001b[0m    \u001b[34m│\u001b[0m                                                           \u001b[2m                                 \u001b[0m\n",
              "\u001b[2;36m           \u001b[0m\u001b[34m╰──────────╯\u001b[0m                                                           \u001b[2m                                 \u001b[0m\n"
            ],
            "text/html": [
              "<pre style=\"white-space:pre;overflow-x:auto;line-height:normal;font-family:Menlo,'DejaVu Sans Mono',consolas,'Courier New',monospace\"><span style=\"color: #7fbfbf; text-decoration-color: #7fbfbf\">           </span>                                                                       <span style=\"color: #7f7f7f; text-decoration-color: #7f7f7f\">&lt;ipython-input-22-c02bc37eef02&gt;:2</span>\n",
              "<span style=\"color: #7fbfbf; text-decoration-color: #7fbfbf\">           </span><span style=\"color: #000080; text-decoration-color: #000080\">╭─ </span><span style=\"color: #000080; text-decoration-color: #000080; font-style: italic\">locals</span><span style=\"color: #000080; text-decoration-color: #000080\"> ─╮</span>                                                           <span style=\"color: #7f7f7f; text-decoration-color: #7f7f7f\">                                 </span>\n",
              "<span style=\"color: #7fbfbf; text-decoration-color: #7fbfbf\">           </span><span style=\"color: #000080; text-decoration-color: #000080\">│</span> <span style=\"color: #808000; text-decoration-color: #808000; font-style: italic\">a</span><span style=\"color: #800000; text-decoration-color: #800000\"> =</span> <span style=\"color: #008080; text-decoration-color: #008080; font-weight: bold\">10</span>   <span style=\"color: #000080; text-decoration-color: #000080\">│</span>                                                           <span style=\"color: #7f7f7f; text-decoration-color: #7f7f7f\">                                 </span>\n",
              "<span style=\"color: #7fbfbf; text-decoration-color: #7fbfbf\">           </span><span style=\"color: #000080; text-decoration-color: #000080\">│</span> <span style=\"color: #808000; text-decoration-color: #808000; font-style: italic\">b</span><span style=\"color: #800000; text-decoration-color: #800000\"> =</span> <span style=\"color: #008080; text-decoration-color: #008080; font-weight: bold\">5</span>    <span style=\"color: #000080; text-decoration-color: #000080\">│</span>                                                           <span style=\"color: #7f7f7f; text-decoration-color: #7f7f7f\">                                 </span>\n",
              "<span style=\"color: #7fbfbf; text-decoration-color: #7fbfbf\">           </span><span style=\"color: #000080; text-decoration-color: #000080\">╰──────────╯</span>                                                           <span style=\"color: #7f7f7f; text-decoration-color: #7f7f7f\">                                 </span>\n",
              "</pre>\n"
            ]
          },
          "metadata": {}
        },
        {
          "output_type": "display_data",
          "data": {
            "text/plain": [
              "\u001b[1;36m10\u001b[0m\u001b[1;32m is greater than \u001b[0m\u001b[1;36m5\u001b[0m\n"
            ],
            "text/html": [
              "<pre style=\"white-space:pre;overflow-x:auto;line-height:normal;font-family:Menlo,'DejaVu Sans Mono',consolas,'Courier New',monospace\"><span style=\"color: #008080; text-decoration-color: #008080; font-weight: bold\">10</span><span style=\"color: #008000; text-decoration-color: #008000; font-weight: bold\"> is greater than </span><span style=\"color: #008080; text-decoration-color: #008080; font-weight: bold\">5</span>\n",
              "</pre>\n"
            ]
          },
          "metadata": {}
        },
        {
          "output_type": "display_data",
          "data": {
            "text/plain": [
              "\u001b[2;36m          \u001b[0m\u001b[2;36m \u001b[0m                                                                       \u001b[2m<ipython-input-22-c02bc37eef02>:2\u001b[0m\n",
              "\u001b[2;36m           \u001b[0m\u001b[34m╭─\u001b[0m\u001b[34m \u001b[0m\u001b[3;34mlocals\u001b[0m\u001b[34m \u001b[0m\u001b[34m─╮\u001b[0m                                                           \u001b[2m                                 \u001b[0m\n",
              "\u001b[2;36m           \u001b[0m\u001b[34m│\u001b[0m \u001b[3;33ma\u001b[0m\u001b[31m =\u001b[0m \u001b[1;36m5\u001b[0m    \u001b[34m│\u001b[0m                                                           \u001b[2m                                 \u001b[0m\n",
              "\u001b[2;36m           \u001b[0m\u001b[34m│\u001b[0m \u001b[3;33mb\u001b[0m\u001b[31m =\u001b[0m \u001b[1;36m5\u001b[0m    \u001b[34m│\u001b[0m                                                           \u001b[2m                                 \u001b[0m\n",
              "\u001b[2;36m           \u001b[0m\u001b[34m╰──────────╯\u001b[0m                                                           \u001b[2m                                 \u001b[0m\n"
            ],
            "text/html": [
              "<pre style=\"white-space:pre;overflow-x:auto;line-height:normal;font-family:Menlo,'DejaVu Sans Mono',consolas,'Courier New',monospace\"><span style=\"color: #7fbfbf; text-decoration-color: #7fbfbf\">           </span>                                                                       <span style=\"color: #7f7f7f; text-decoration-color: #7f7f7f\">&lt;ipython-input-22-c02bc37eef02&gt;:2</span>\n",
              "<span style=\"color: #7fbfbf; text-decoration-color: #7fbfbf\">           </span><span style=\"color: #000080; text-decoration-color: #000080\">╭─ </span><span style=\"color: #000080; text-decoration-color: #000080; font-style: italic\">locals</span><span style=\"color: #000080; text-decoration-color: #000080\"> ─╮</span>                                                           <span style=\"color: #7f7f7f; text-decoration-color: #7f7f7f\">                                 </span>\n",
              "<span style=\"color: #7fbfbf; text-decoration-color: #7fbfbf\">           </span><span style=\"color: #000080; text-decoration-color: #000080\">│</span> <span style=\"color: #808000; text-decoration-color: #808000; font-style: italic\">a</span><span style=\"color: #800000; text-decoration-color: #800000\"> =</span> <span style=\"color: #008080; text-decoration-color: #008080; font-weight: bold\">5</span>    <span style=\"color: #000080; text-decoration-color: #000080\">│</span>                                                           <span style=\"color: #7f7f7f; text-decoration-color: #7f7f7f\">                                 </span>\n",
              "<span style=\"color: #7fbfbf; text-decoration-color: #7fbfbf\">           </span><span style=\"color: #000080; text-decoration-color: #000080\">│</span> <span style=\"color: #808000; text-decoration-color: #808000; font-style: italic\">b</span><span style=\"color: #800000; text-decoration-color: #800000\"> =</span> <span style=\"color: #008080; text-decoration-color: #008080; font-weight: bold\">5</span>    <span style=\"color: #000080; text-decoration-color: #000080\">│</span>                                                           <span style=\"color: #7f7f7f; text-decoration-color: #7f7f7f\">                                 </span>\n",
              "<span style=\"color: #7fbfbf; text-decoration-color: #7fbfbf\">           </span><span style=\"color: #000080; text-decoration-color: #000080\">╰──────────╯</span>                                                           <span style=\"color: #7f7f7f; text-decoration-color: #7f7f7f\">                                 </span>\n",
              "</pre>\n"
            ]
          },
          "metadata": {}
        },
        {
          "output_type": "display_data",
          "data": {
            "text/plain": [
              "\u001b[1;36m5\u001b[0m is equal to \u001b[1;36m5\u001b[0m\n"
            ],
            "text/html": [
              "<pre style=\"white-space:pre;overflow-x:auto;line-height:normal;font-family:Menlo,'DejaVu Sans Mono',consolas,'Courier New',monospace\"><span style=\"color: #008080; text-decoration-color: #008080; font-weight: bold\">5</span> is equal to <span style=\"color: #008080; text-decoration-color: #008080; font-weight: bold\">5</span>\n",
              "</pre>\n"
            ]
          },
          "metadata": {}
        },
        {
          "output_type": "display_data",
          "data": {
            "text/plain": [
              "\u001b[2;36m          \u001b[0m\u001b[2;36m \u001b[0m                                                                       \u001b[2m<ipython-input-22-c02bc37eef02>:2\u001b[0m\n",
              "\u001b[2;36m           \u001b[0m\u001b[34m╭─\u001b[0m\u001b[34m─\u001b[0m\u001b[34m \u001b[0m\u001b[3;34mlocals\u001b[0m\u001b[34m \u001b[0m\u001b[34m──\u001b[0m\u001b[34m─╮\u001b[0m                                                        \u001b[2m                                 \u001b[0m\n",
              "\u001b[2;36m           \u001b[0m\u001b[34m│\u001b[0m \u001b[3;33ma\u001b[0m\u001b[31m =\u001b[0m \u001b[1;36m5\u001b[0m       \u001b[34m│\u001b[0m                                                        \u001b[2m                                 \u001b[0m\n",
              "\u001b[2;36m           \u001b[0m\u001b[34m│\u001b[0m \u001b[3;33mb\u001b[0m\u001b[31m =\u001b[0m \u001b[32m'Keith'\u001b[0m \u001b[34m│\u001b[0m                                                        \u001b[2m                                 \u001b[0m\n",
              "\u001b[2;36m           \u001b[0m\u001b[34m╰─────────────╯\u001b[0m                                                        \u001b[2m                                 \u001b[0m\n"
            ],
            "text/html": [
              "<pre style=\"white-space:pre;overflow-x:auto;line-height:normal;font-family:Menlo,'DejaVu Sans Mono',consolas,'Courier New',monospace\"><span style=\"color: #7fbfbf; text-decoration-color: #7fbfbf\">           </span>                                                                       <span style=\"color: #7f7f7f; text-decoration-color: #7f7f7f\">&lt;ipython-input-22-c02bc37eef02&gt;:2</span>\n",
              "<span style=\"color: #7fbfbf; text-decoration-color: #7fbfbf\">           </span><span style=\"color: #000080; text-decoration-color: #000080\">╭── </span><span style=\"color: #000080; text-decoration-color: #000080; font-style: italic\">locals</span><span style=\"color: #000080; text-decoration-color: #000080\"> ───╮</span>                                                        <span style=\"color: #7f7f7f; text-decoration-color: #7f7f7f\">                                 </span>\n",
              "<span style=\"color: #7fbfbf; text-decoration-color: #7fbfbf\">           </span><span style=\"color: #000080; text-decoration-color: #000080\">│</span> <span style=\"color: #808000; text-decoration-color: #808000; font-style: italic\">a</span><span style=\"color: #800000; text-decoration-color: #800000\"> =</span> <span style=\"color: #008080; text-decoration-color: #008080; font-weight: bold\">5</span>       <span style=\"color: #000080; text-decoration-color: #000080\">│</span>                                                        <span style=\"color: #7f7f7f; text-decoration-color: #7f7f7f\">                                 </span>\n",
              "<span style=\"color: #7fbfbf; text-decoration-color: #7fbfbf\">           </span><span style=\"color: #000080; text-decoration-color: #000080\">│</span> <span style=\"color: #808000; text-decoration-color: #808000; font-style: italic\">b</span><span style=\"color: #800000; text-decoration-color: #800000\"> =</span> <span style=\"color: #008000; text-decoration-color: #008000\">'Keith'</span> <span style=\"color: #000080; text-decoration-color: #000080\">│</span>                                                        <span style=\"color: #7f7f7f; text-decoration-color: #7f7f7f\">                                 </span>\n",
              "<span style=\"color: #7fbfbf; text-decoration-color: #7fbfbf\">           </span><span style=\"color: #000080; text-decoration-color: #000080\">╰─────────────╯</span>                                                        <span style=\"color: #7f7f7f; text-decoration-color: #7f7f7f\">                                 </span>\n",
              "</pre>\n"
            ]
          },
          "metadata": {}
        },
        {
          "output_type": "display_data",
          "data": {
            "text/plain": [
              "\u001b[31m╭─\u001b[0m\u001b[31m──────────────────────────────\u001b[0m\u001b[31m \u001b[0m\u001b[1;31mTraceback \u001b[0m\u001b[1;2;31m(most recent call last)\u001b[0m\u001b[31m \u001b[0m\u001b[31m───────────────────────────────\u001b[0m\u001b[31m─╮\u001b[0m\n",
              "\u001b[31m│\u001b[0m in \u001b[92m<cell line: 0>\u001b[0m:\u001b[94m5\u001b[0m                                                                              \u001b[31m│\u001b[0m\n",
              "\u001b[31m│\u001b[0m in \u001b[92mcompare_numbers\u001b[0m:\u001b[94m3\u001b[0m                                                                             \u001b[31m│\u001b[0m\n",
              "\u001b[31m╰──────────────────────────────────────────────────────────────────────────────────────────────────╯\u001b[0m\n",
              "\u001b[1;91mTypeError: \u001b[0m\u001b[32m'>'\u001b[0m not supported between instances of \u001b[32m'int'\u001b[0m and \u001b[32m'str'\u001b[0m\n"
            ],
            "text/html": [
              "<pre style=\"white-space:pre;overflow-x:auto;line-height:normal;font-family:Menlo,'DejaVu Sans Mono',consolas,'Courier New',monospace\"><span style=\"color: #800000; text-decoration-color: #800000\">╭─────────────────────────────── </span><span style=\"color: #800000; text-decoration-color: #800000; font-weight: bold\">Traceback </span><span style=\"color: #bf7f7f; text-decoration-color: #bf7f7f; font-weight: bold\">(most recent call last)</span><span style=\"color: #800000; text-decoration-color: #800000\"> ────────────────────────────────╮</span>\n",
              "<span style=\"color: #800000; text-decoration-color: #800000\">│</span> in <span style=\"color: #00ff00; text-decoration-color: #00ff00\">&lt;cell line: 0&gt;</span>:<span style=\"color: #0000ff; text-decoration-color: #0000ff\">5</span>                                                                              <span style=\"color: #800000; text-decoration-color: #800000\">│</span>\n",
              "<span style=\"color: #800000; text-decoration-color: #800000\">│</span> in <span style=\"color: #00ff00; text-decoration-color: #00ff00\">compare_numbers</span>:<span style=\"color: #0000ff; text-decoration-color: #0000ff\">3</span>                                                                             <span style=\"color: #800000; text-decoration-color: #800000\">│</span>\n",
              "<span style=\"color: #800000; text-decoration-color: #800000\">╰──────────────────────────────────────────────────────────────────────────────────────────────────╯</span>\n",
              "<span style=\"color: #ff0000; text-decoration-color: #ff0000; font-weight: bold\">TypeError: </span><span style=\"color: #008000; text-decoration-color: #008000\">'&gt;'</span> not supported between instances of <span style=\"color: #008000; text-decoration-color: #008000\">'int'</span> and <span style=\"color: #008000; text-decoration-color: #008000\">'str'</span>\n",
              "</pre>\n"
            ]
          },
          "metadata": {}
        }
      ]
    }
  ]
}